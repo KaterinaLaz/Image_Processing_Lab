{
 "cells": [
  {
   "cell_type": "code",
   "execution_count": 1,
   "metadata": {},
   "outputs": [],
   "source": [
    "from PIL import Image\n",
    "import numpy as np\n",
    "\n",
    "l8 = Image.open('lena-gray.jpg')\n",
    "l8.show()"
   ]
  },
  {
   "cell_type": "code",
   "execution_count": 2,
   "metadata": {},
   "outputs": [],
   "source": [
    "l8_array = np.array(l8)\n",
    "l7_array = np.zeros((l8_array.shape[0]//2,l8_array.shape[1]//2),np.uint8) #νέος πίνακας με 0 μισής διάστασης\n",
    "for i in range(0,l8_array.shape[0],2):\n",
    "    for j in range(0,l8_array.shape[1],2):\n",
    "        l7_array[i//2][j//2] = np.sum(l8_array[i:i+2,j:j+2])//4  #μέσος όρος από (i,j) ως (i+1,j+1)\n",
    "l7 = Image.fromarray(l7_array)\n",
    "l7.show()\n",
    "l7.save('lena-gray_2.jpg')"
   ]
  },
  {
   "cell_type": "code",
   "execution_count": 3,
   "metadata": {},
   "outputs": [],
   "source": [
    "l6_array = np.zeros((l7_array.shape[0]//2,l7_array.shape[1]//2),np.uint8)\n",
    "for i in range(0,l7_array.shape[0],2):\n",
    "    for j in range(0,l7_array.shape[1],2):\n",
    "        l6_array[i//2][j//2] = np.sum(l7_array[i:i+2,j:j+2])//4\n",
    "l6 = Image.fromarray(l6_array)\n",
    "l6.show()\n",
    "l6.save('lena-gray_4.jpg')"
   ]
  },
  {
   "cell_type": "code",
   "execution_count": 4,
   "metadata": {},
   "outputs": [],
   "source": [
    "l5_array = np.zeros((l6_array.shape[0]//2,l6_array.shape[1]//2),np.uint8)\n",
    "for i in range(0,l6_array.shape[0],2):\n",
    "    for j in range(0,l6_array.shape[1],2):\n",
    "        l5_array[i//2][j//2] = np.sum(l6_array[i:i+2,j:j+2])//4\n",
    "l5 = Image.fromarray(l5_array)\n",
    "l5.show()\n",
    "l5.save('lena-gray_8.jpg')"
   ]
  },
  {
   "cell_type": "code",
   "execution_count": null,
   "metadata": {},
   "outputs": [],
   "source": []
  }
 ],
 "metadata": {
  "kernelspec": {
   "display_name": "Python 3",
   "language": "python",
   "name": "python3"
  },
  "language_info": {
   "codemirror_mode": {
    "name": "ipython",
    "version": 3
   },
   "file_extension": ".py",
   "mimetype": "text/x-python",
   "name": "python",
   "nbconvert_exporter": "python",
   "pygments_lexer": "ipython3",
   "version": "3.7.4"
  }
 },
 "nbformat": 4,
 "nbformat_minor": 2
}
