{
 "cells": [
  {
   "cell_type": "code",
   "execution_count": null,
   "metadata": {},
   "outputs": [],
   "source": [
    "from PIL import Image\n",
    "\n",
    "im1 = Image.new('L',(256,256))\n",
    "print(im1.size)\n",
    "for i in range(im1.size[0]):\n",
    "    for j in range(im1.size[1]):\n",
    "        im1.putpixel((i,j),i)\n",
    "im1.show()"
   ]
  },
  {
   "cell_type": "code",
   "execution_count": null,
   "metadata": {},
   "outputs": [],
   "source": [
    "im3 = Image.open('lena-gray.jpg')\n",
    "im3.show()\n",
    "im_add = Image.new('L',(256,256))\n",
    "im_sub = Image.new('L',(256,256))\n",
    "for i in range(im_add.size[0]):\n",
    "    for j in range(im_add.size[1]):\n",
    "        inten = im1.getpixel((i,j)) + im3.getpixel((i,j))\n",
    "        if inten > 255:\n",
    "            inten = 255\n",
    "        im_add.putpixel((i,j),inten)\n",
    "        inten = im3.getpixel((i,j)) - im1.getpixel((i,j))\n",
    "        if inten < 0:\n",
    "            inten = 0\n",
    "        im_sub.putpixel((i,j),inten)\n",
    "im_add.show()\n",
    "im_sub.show()\n"
   ]
  },
  {
   "cell_type": "code",
   "execution_count": null,
   "metadata": {},
   "outputs": [],
   "source": []
  }
 ],
 "metadata": {
  "kernelspec": {
   "display_name": "Python 3",
   "language": "python",
   "name": "python3"
  },
  "language_info": {
   "codemirror_mode": {
    "name": "ipython",
    "version": 3
   },
   "file_extension": ".py",
   "mimetype": "text/x-python",
   "name": "python",
   "nbconvert_exporter": "python",
   "pygments_lexer": "ipython3",
   "version": "3.7.4"
  }
 },
 "nbformat": 4,
 "nbformat_minor": 2
}
