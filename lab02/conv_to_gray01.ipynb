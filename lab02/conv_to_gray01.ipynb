{
 "cells": [
  {
   "cell_type": "code",
   "execution_count": 1,
   "metadata": {},
   "outputs": [
    {
     "name": "stdout",
     "output_type": "stream",
     "text": [
      "size =  (500, 386)\n",
      "pixel[50][50]=  (45, 31, 20)\n",
      "32.0\n"
     ]
    }
   ],
   "source": [
    "from PIL import Image\n",
    "\n",
    "l0 = Image.open('skilos-2.jpg')\n",
    "lg = Image.new('L',(l0.size[0],l0.size[1]))\n",
    "print('size = ',l0.size)\n",
    "print('pixel[50][50]= ',l0.getpixel((50,50)))\n",
    "print(sum(l0.getpixel((50,50)))/3)\n",
    "for x in range(l0.size[0]):\n",
    "    for y in range(l0.size[1]):\n",
    "        lg.putpixel((x,y),int(sum(l0.getpixel((x,y)))/3))\n",
    "l0.show()\n",
    "lg.show()\n",
    "lg.save('skilos-2_gray.jpg')"
   ]
  },
  {
   "cell_type": "code",
   "execution_count": null,
   "metadata": {},
   "outputs": [],
   "source": []
  }
 ],
 "metadata": {
  "kernelspec": {
   "display_name": "Python 3",
   "language": "python",
   "name": "python3"
  },
  "language_info": {
   "codemirror_mode": {
    "name": "ipython",
    "version": 3
   },
   "file_extension": ".py",
   "mimetype": "text/x-python",
   "name": "python",
   "nbconvert_exporter": "python",
   "pygments_lexer": "ipython3",
   "version": "3.7.4"
  }
 },
 "nbformat": 4,
 "nbformat_minor": 4
}
