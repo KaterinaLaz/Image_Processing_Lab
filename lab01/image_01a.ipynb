{
 "cells": [
  {
   "cell_type": "code",
   "execution_count": 5,
   "metadata": {},
   "outputs": [],
   "source": [
    "from PIL import Image\n",
    "import numpy as np\n",
    "\n",
    "a = np.zeros((256,256),np.uint8)\n",
    "im1 = Image.fromarray(a)\n",
    "\n",
    "im1.show()"
   ]
  },
  {
   "cell_type": "code",
   "execution_count": 6,
   "metadata": {},
   "outputs": [],
   "source": [
    "a[128][128] = 255\n",
    "im1 = Image.fromarray(a)\n",
    "\n",
    "im1.show()"
   ]
  },
  {
   "cell_type": "code",
   "execution_count": 7,
   "metadata": {},
   "outputs": [],
   "source": [
    "for i in range(a.shape[0]):\n",
    "    for j in range(a.shape[1]):\n",
    "        if i == j:\n",
    "            a[i][j] = 255\n",
    "im1 = Image.fromarray(a)\n",
    "\n",
    "im1.show()"
   ]
  },
  {
   "cell_type": "code",
   "execution_count": 24,
   "metadata": {},
   "outputs": [],
   "source": [
    "im2 = Image.open('parrot.png')\n",
    "\n",
    "im2.show()"
   ]
  },
  {
   "cell_type": "code",
   "execution_count": 25,
   "metadata": {},
   "outputs": [
    {
     "name": "stdout",
     "output_type": "stream",
     "text": [
      "237\n"
     ]
    }
   ],
   "source": [
    "print(im2.getpixel((50,50)))"
   ]
  },
  {
   "cell_type": "code",
   "execution_count": 8,
   "metadata": {},
   "outputs": [
    {
     "name": "stdout",
     "output_type": "stream",
     "text": [
      "[[  0   0   0 ...   3   0   0]\n",
      " [  0   0   0 ...  33  13   0]\n",
      " [  4   1   0 ...  96  65   6]\n",
      " ...\n",
      " [124 133 139 ...  33  13   8]\n",
      " [128 138 145 ...  35  28  28]\n",
      " [135 137 136 ...  35  28  34]]\n"
     ]
    }
   ],
   "source": [
    "a2 = np.array(im2)\n",
    "print(a2)"
   ]
  },
  {
   "cell_type": "code",
   "execution_count": null,
   "metadata": {},
   "outputs": [],
   "source": []
  }
 ],
 "metadata": {
  "kernelspec": {
   "display_name": "Python 3",
   "language": "python",
   "name": "python3"
  },
  "language_info": {
   "codemirror_mode": {
    "name": "ipython",
    "version": 3
   },
   "file_extension": ".py",
   "mimetype": "text/x-python",
   "name": "python",
   "nbconvert_exporter": "python",
   "pygments_lexer": "ipython3",
   "version": "3.7.4"
  }
 },
 "nbformat": 4,
 "nbformat_minor": 4
}
