{
 "cells": [
  {
   "cell_type": "code",
   "execution_count": 1,
   "metadata": {},
   "outputs": [
    {
     "name": "stdout",
     "output_type": "stream",
     "text": [
      "[[  0   0   0 ...   3   0   0]\n",
      " [  0   0   0 ...  33  13   0]\n",
      " [  4   1   0 ...  96  65   6]\n",
      " ...\n",
      " [124 133 139 ...  33  13   8]\n",
      " [128 138 145 ...  35  28  28]\n",
      " [135 137 136 ...  35  28  34]]\n",
      "(150, 200)\n"
     ]
    }
   ],
   "source": [
    "from PIL import Image\n",
    "import numpy as np\n",
    "\n",
    "im1 = Image.open('parrot.png')\n",
    "a = np.array(im1)\n",
    "print(a)\n",
    "im1.show()\n",
    "print(im1.size)"
   ]
  },
  {
   "cell_type": "code",
   "execution_count": 2,
   "metadata": {},
   "outputs": [],
   "source": [
    "for i in range(im1.size[0]):\n",
    "    for j in range(im1.size[1]):\n",
    "        im1.putpixel((i,j),255-im1.getpixel((i,j)))\n",
    "im1.show()"
   ]
  },
  {
   "cell_type": "code",
   "execution_count": null,
   "metadata": {},
   "outputs": [],
   "source": []
  }
 ],
 "metadata": {
  "kernelspec": {
   "display_name": "Python 3",
   "language": "python",
   "name": "python3"
  },
  "language_info": {
   "codemirror_mode": {
    "name": "ipython",
    "version": 3
   },
   "file_extension": ".py",
   "mimetype": "text/x-python",
   "name": "python",
   "nbconvert_exporter": "python",
   "pygments_lexer": "ipython3",
   "version": "3.7.4"
  }
 },
 "nbformat": 4,
 "nbformat_minor": 2
}
